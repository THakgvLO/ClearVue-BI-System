{
 "cells": [
  {
   "cell_type": "code",
   "execution_count": 42,
   "id": "8b14ced6",
   "metadata": {},
   "outputs": [],
   "source": [
    "import pandas as pd\n",
    "import re\n",
    "\n",
    "# Load the data\n",
    "customer_df = pd.read_excel('Data/Customer.xlsx')"
   ]
  },
  {
   "cell_type": "code",
   "execution_count": 43,
   "id": "531cae25",
   "metadata": {},
   "outputs": [
    {
     "name": "stdout",
     "output_type": "stream",
     "text": [
      "Columns: ['CUSTOMER_NUMBER', 'CCAT_CODE', 'REGION_CODE', 'REP_CODE', 'SETTLE_TERMS', 'NORMAL_PAYTERMS', 'DISCOUNT', 'CREDIT_LIMIT']\n"
     ]
    }
   ],
   "source": [
    "print(\"Columns:\", customer_df.columns.tolist())"
   ]
  },
  {
   "cell_type": "code",
   "execution_count": 44,
   "id": "208d082a",
   "metadata": {},
   "outputs": [
    {
     "name": "stdout",
     "output_type": "stream",
     "text": [
      "Sample data:\n",
      "   CUSTOMER_NUMBER  CCAT_CODE REGION_CODE REP_CODE  SETTLE_TERMS  \\\n",
      "0          599000         30          7a       05           0.0   \n",
      "1          999999          0          9a        0           0.0   \n",
      "2          AACJ01         21         25b     ZZZ5           0.0   \n",
      "3          AACJC1         21         25b     ZZZ5           0.0   \n",
      "4          AACJC2          5         20a    CONS4           0.0   \n",
      "\n",
      "   NORMAL_PAYTERMS  DISCOUNT  CREDIT_LIMIT  \n",
      "0               60         0          6000  \n",
      "1                0         0             0  \n",
      "2               90         0        999999  \n",
      "3              120         0        999999  \n",
      "4              120         0        999999  \n"
     ]
    }
   ],
   "source": [
    "print(\"Sample data:\\n\", customer_df.head())"
   ]
  },
  {
   "cell_type": "code",
   "execution_count": 45,
   "id": "bc36fd04",
   "metadata": {},
   "outputs": [
    {
     "name": "stdout",
     "output_type": "stream",
     "text": [
      "Null values:\n",
      " CUSTOMER_NUMBER    0\n",
      "CCAT_CODE          0\n",
      "REGION_CODE        0\n",
      "REP_CODE           0\n",
      "SETTLE_TERMS       1\n",
      "NORMAL_PAYTERMS    0\n",
      "DISCOUNT           0\n",
      "CREDIT_LIMIT       0\n",
      "dtype: int64\n"
     ]
    }
   ],
   "source": [
    "print(\"Null values:\\n\", customer_df.isnull().sum())"
   ]
  },
  {
   "cell_type": "code",
   "execution_count": 46,
   "id": "1c3d1ef1",
   "metadata": {},
   "outputs": [],
   "source": [
    "# Remove rows with any null values\n",
    "customer_df_clean = customer_df.dropna()\n",
    "\n",
    "filter_mask = customer_df_clean['CUSTOMER_NUMBER'].str.match(\n",
    "    r'^[A-Z]{4}([A-Z]{2}|[A-Z][0-9]|[0-9]{2})$', na=False\n",
    ")\n",
    "\n",
    "customer_df_clean = customer_df_clean[filter_mask]\n",
    "\n",
    "# Optional: drop rows where CUSTOMER_NUMBER is missing entirely\n",
    "customer_df_clean = customer_df_clean[customer_df_clean['CUSTOMER_NUMBER'].notna()]\n",
    "\n",
    "# Clean CCAT_CODE: keep only positive integers\n",
    "customer_df_clean = customer_df_clean[customer_df_clean['CCAT_CODE'] > 0]\n",
    "\n",
    "# Clean REGION_CODE: keep only rows where REGION_CODE matches pattern like '7a', '25b', '20a', etc. (1-2 digits + 1 letter)\n",
    "region_code_pattern = r'^\\d{1,2}[A-Za-z]$'\n",
    "customer_df_clean = customer_df_clean[customer_df_clean['REGION_CODE'].astype(str).str.match(region_code_pattern)]\n",
    "\n",
    "# Clean REP_CODE: keep only alphanumeric codes (no special characters)\n",
    "customer_df_clean = customer_df_clean[customer_df_clean['REP_CODE'].astype(str).str.isalnum()]\n",
    "\n",
    "# Clean SETTLE_TERMS: keep only non-negative floats\n",
    "customer_df_clean = customer_df_clean[customer_df_clean['SETTLE_TERMS'] >= 0]\n",
    "\n",
    "# Clean NORMAL_PAYTERMS: keep only positive integers\n",
    "customer_df_clean = customer_df_clean[customer_df_clean['NORMAL_PAYTERMS'] > 0]\n",
    "\n",
    "# Clean DISCOUNT: keep only non-negative integers (assuming discount can't be negative)\n",
    "customer_df_clean = customer_df_clean[customer_df_clean['DISCOUNT'] >= 0]\n",
    "\n",
    "# Clean CREDIT_LIMIT: keep only non-negative integers\n",
    "customer_df_clean = customer_df_clean[customer_df_clean['CREDIT_LIMIT'] >= 0]\n",
    "\n",
    "# Reset index after cleaning\n",
    "customer_df_clean = customer_df_clean.reset_index(drop=True)\n",
    "\n",
    "# Check for possible spelling mistakes in column names by comparing to a reference list\n",
    "expected_columns = [\n",
    "    'CUSTOMER_NUMBER', 'CCAT_CODE', 'REGION_CODE', 'REP_CODE',\n",
    "    'SETTLE_TERMS', 'NORMAL_PAYTERMS', 'DISCOUNT', 'CREDIT_LIMIT'\n",
    "]"
   ]
  },
  {
   "cell_type": "code",
   "execution_count": 47,
   "id": "23245a41",
   "metadata": {},
   "outputs": [
    {
     "name": "stdout",
     "output_type": "stream",
     "text": [
      "Cleaned data shape: (2657, 8)\n"
     ]
    }
   ],
   "source": [
    "# Show cleaned data info\n",
    "print(\"Cleaned data shape:\", customer_df_clean.shape)"
   ]
  },
  {
   "cell_type": "code",
   "execution_count": 48,
   "id": "6457ae42",
   "metadata": {},
   "outputs": [
    {
     "name": "stdout",
     "output_type": "stream",
     "text": [
      "Cleaned sample data:\n",
      "   CUSTOMER_NUMBER  CCAT_CODE REGION_CODE REP_CODE  SETTLE_TERMS  \\\n",
      "0          AACJ01         21         25b     ZZZ5           0.0   \n",
      "1          AACJC1         21         25b     ZZZ5           0.0   \n",
      "2          AACJC2          5         20a    CONS4           0.0   \n",
      "3          AADPRG          6         21a       XX           0.0   \n",
      "4          AAMI01         41         10a       02           0.0   \n",
      "\n",
      "   NORMAL_PAYTERMS  DISCOUNT  CREDIT_LIMIT  \n",
      "0               90         0        999999  \n",
      "1              120         0        999999  \n",
      "2              120         0        999999  \n",
      "3              120         0        999999  \n",
      "4              120         0          2000  \n"
     ]
    }
   ],
   "source": [
    "print(\"Cleaned sample data:\\n\", customer_df_clean.head())"
   ]
  },
  {
   "cell_type": "code",
   "execution_count": 49,
   "id": "236ba5b3",
   "metadata": {},
   "outputs": [
    {
     "data": {
      "text/html": [
       "<div>\n",
       "<style scoped>\n",
       "    .dataframe tbody tr th:only-of-type {\n",
       "        vertical-align: middle;\n",
       "    }\n",
       "\n",
       "    .dataframe tbody tr th {\n",
       "        vertical-align: top;\n",
       "    }\n",
       "\n",
       "    .dataframe thead th {\n",
       "        text-align: right;\n",
       "    }\n",
       "</style>\n",
       "<table border=\"1\" class=\"dataframe\">\n",
       "  <thead>\n",
       "    <tr style=\"text-align: right;\">\n",
       "      <th></th>\n",
       "      <th>CUSTOMER_NUMBER</th>\n",
       "      <th>CCAT_CODE</th>\n",
       "      <th>REGION_CODE</th>\n",
       "      <th>REP_CODE</th>\n",
       "      <th>SETTLE_TERMS</th>\n",
       "      <th>NORMAL_PAYTERMS</th>\n",
       "      <th>DISCOUNT</th>\n",
       "      <th>CREDIT_LIMIT</th>\n",
       "    </tr>\n",
       "  </thead>\n",
       "  <tbody>\n",
       "    <tr>\n",
       "      <th>0</th>\n",
       "      <td>AACJ01</td>\n",
       "      <td>21</td>\n",
       "      <td>25b</td>\n",
       "      <td>ZZZ5</td>\n",
       "      <td>0.0</td>\n",
       "      <td>90</td>\n",
       "      <td>0</td>\n",
       "      <td>999999</td>\n",
       "    </tr>\n",
       "    <tr>\n",
       "      <th>1</th>\n",
       "      <td>AACJC1</td>\n",
       "      <td>21</td>\n",
       "      <td>25b</td>\n",
       "      <td>ZZZ5</td>\n",
       "      <td>0.0</td>\n",
       "      <td>120</td>\n",
       "      <td>0</td>\n",
       "      <td>999999</td>\n",
       "    </tr>\n",
       "    <tr>\n",
       "      <th>2</th>\n",
       "      <td>AACJC2</td>\n",
       "      <td>5</td>\n",
       "      <td>20a</td>\n",
       "      <td>CONS4</td>\n",
       "      <td>0.0</td>\n",
       "      <td>120</td>\n",
       "      <td>0</td>\n",
       "      <td>999999</td>\n",
       "    </tr>\n",
       "    <tr>\n",
       "      <th>3</th>\n",
       "      <td>AADPRG</td>\n",
       "      <td>6</td>\n",
       "      <td>21a</td>\n",
       "      <td>XX</td>\n",
       "      <td>0.0</td>\n",
       "      <td>120</td>\n",
       "      <td>0</td>\n",
       "      <td>999999</td>\n",
       "    </tr>\n",
       "    <tr>\n",
       "      <th>4</th>\n",
       "      <td>AAMI01</td>\n",
       "      <td>41</td>\n",
       "      <td>10a</td>\n",
       "      <td>02</td>\n",
       "      <td>0.0</td>\n",
       "      <td>120</td>\n",
       "      <td>0</td>\n",
       "      <td>2000</td>\n",
       "    </tr>\n",
       "    <tr>\n",
       "      <th>...</th>\n",
       "      <td>...</td>\n",
       "      <td>...</td>\n",
       "      <td>...</td>\n",
       "      <td>...</td>\n",
       "      <td>...</td>\n",
       "      <td>...</td>\n",
       "      <td>...</td>\n",
       "      <td>...</td>\n",
       "    </tr>\n",
       "    <tr>\n",
       "      <th>2652</th>\n",
       "      <td>ZHAY02</td>\n",
       "      <td>19</td>\n",
       "      <td>4b</td>\n",
       "      <td>03</td>\n",
       "      <td>0.0</td>\n",
       "      <td>120</td>\n",
       "      <td>0</td>\n",
       "      <td>2000</td>\n",
       "    </tr>\n",
       "    <tr>\n",
       "      <th>2653</th>\n",
       "      <td>ZMAU01</td>\n",
       "      <td>37</td>\n",
       "      <td>11a</td>\n",
       "      <td>03</td>\n",
       "      <td>0.0</td>\n",
       "      <td>120</td>\n",
       "      <td>0</td>\n",
       "      <td>0</td>\n",
       "    </tr>\n",
       "    <tr>\n",
       "      <th>2654</th>\n",
       "      <td>ZNAE01</td>\n",
       "      <td>46</td>\n",
       "      <td>2b</td>\n",
       "      <td>05</td>\n",
       "      <td>0.0</td>\n",
       "      <td>120</td>\n",
       "      <td>0</td>\n",
       "      <td>30000</td>\n",
       "    </tr>\n",
       "    <tr>\n",
       "      <th>2655</th>\n",
       "      <td>ZNAEOC</td>\n",
       "      <td>5</td>\n",
       "      <td>20a</td>\n",
       "      <td>STAND</td>\n",
       "      <td>0.0</td>\n",
       "      <td>120</td>\n",
       "      <td>0</td>\n",
       "      <td>999999</td>\n",
       "    </tr>\n",
       "    <tr>\n",
       "      <th>2656</th>\n",
       "      <td>ZNAO01</td>\n",
       "      <td>43</td>\n",
       "      <td>3a</td>\n",
       "      <td>06</td>\n",
       "      <td>0.0</td>\n",
       "      <td>120</td>\n",
       "      <td>0</td>\n",
       "      <td>2500</td>\n",
       "    </tr>\n",
       "  </tbody>\n",
       "</table>\n",
       "<p>2657 rows × 8 columns</p>\n",
       "</div>"
      ],
      "text/plain": [
       "     CUSTOMER_NUMBER  CCAT_CODE REGION_CODE REP_CODE  SETTLE_TERMS  \\\n",
       "0             AACJ01         21         25b     ZZZ5           0.0   \n",
       "1             AACJC1         21         25b     ZZZ5           0.0   \n",
       "2             AACJC2          5         20a    CONS4           0.0   \n",
       "3             AADPRG          6         21a       XX           0.0   \n",
       "4             AAMI01         41         10a       02           0.0   \n",
       "...              ...        ...         ...      ...           ...   \n",
       "2652          ZHAY02         19          4b       03           0.0   \n",
       "2653          ZMAU01         37         11a       03           0.0   \n",
       "2654          ZNAE01         46          2b       05           0.0   \n",
       "2655          ZNAEOC          5         20a    STAND           0.0   \n",
       "2656          ZNAO01         43          3a       06           0.0   \n",
       "\n",
       "      NORMAL_PAYTERMS  DISCOUNT  CREDIT_LIMIT  \n",
       "0                  90         0        999999  \n",
       "1                 120         0        999999  \n",
       "2                 120         0        999999  \n",
       "3                 120         0        999999  \n",
       "4                 120         0          2000  \n",
       "...               ...       ...           ...  \n",
       "2652              120         0          2000  \n",
       "2653              120         0             0  \n",
       "2654              120         0         30000  \n",
       "2655              120         0        999999  \n",
       "2656              120         0          2500  \n",
       "\n",
       "[2657 rows x 8 columns]"
      ]
     },
     "execution_count": 49,
     "metadata": {},
     "output_type": "execute_result"
    }
   ],
   "source": [
    "customer_df_clean"
   ]
  },
  {
   "cell_type": "code",
   "execution_count": 50,
   "id": "7098ceea",
   "metadata": {},
   "outputs": [],
   "source": [
    "import os\n",
    "\n",
    "# Define folder paths\n",
    "csv_folder = os.path.join(os.getcwd(), \"csv_outputs\")\n",
    "json_folder = os.path.join(os.getcwd(), \"json_outputs\")\n",
    "\n",
    "# Create folders if they don't exist\n",
    "os.makedirs(csv_folder, exist_ok=True)\n",
    "os.makedirs(json_folder, exist_ok=True)"
   ]
  },
  {
   "cell_type": "code",
   "execution_count": 51,
   "id": "ffaf071a",
   "metadata": {},
   "outputs": [],
   "source": [
    "# Save CSV\n",
    "csv_path = os.path.join(csv_folder, \"customer_df_clean.csv\") #Customer.xlsx\n",
    "customer_df_clean.to_csv(csv_path, index=False)\n",
    "\n",
    "# Save JSON\n",
    "json_path = os.path.join(json_folder, \"customer_df_clean.json\")\n",
    "customer_df_clean.to_json(json_path, orient=\"records\", lines=True)"
   ]
  }
 ],
 "metadata": {
  "kernelspec": {
   "display_name": "3.13.5",
   "language": "python",
   "name": "python3"
  },
  "language_info": {
   "codemirror_mode": {
    "name": "ipython",
    "version": 3
   },
   "file_extension": ".py",
   "mimetype": "text/x-python",
   "name": "python",
   "nbconvert_exporter": "python",
   "pygments_lexer": "ipython3",
   "version": "3.13.5"
  }
 },
 "nbformat": 4,
 "nbformat_minor": 5
}
