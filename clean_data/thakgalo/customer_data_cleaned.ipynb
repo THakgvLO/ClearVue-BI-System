{
 "cells": [
  {
   "cell_type": "code",
   "execution_count": 3,
   "id": "8b14ced6",
   "metadata": {},
   "outputs": [],
   "source": [
    "import pandas as pd\n",
    "import re\n",
    "\n",
    "# Load the data\n",
    "customer_df = pd.read_excel('Data/Customer.xlsx')"
   ]
  },
  {
   "cell_type": "code",
   "execution_count": 4,
   "id": "531cae25",
   "metadata": {},
   "outputs": [
    {
     "name": "stdout",
     "output_type": "stream",
     "text": [
      "Columns: ['CUSTOMER_NUMBER', 'CCAT_CODE', 'REGION_CODE', 'REP_CODE', 'SETTLE_TERMS', 'NORMAL_PAYTERMS', 'DISCOUNT', 'CREDIT_LIMIT']\n"
     ]
    }
   ],
   "source": [
    "print(\"Columns:\", customer_df.columns.tolist())"
   ]
  },
  {
   "cell_type": "code",
   "execution_count": 5,
   "id": "208d082a",
   "metadata": {},
   "outputs": [
    {
     "name": "stdout",
     "output_type": "stream",
     "text": [
      "Sample data:\n",
      "   CUSTOMER_NUMBER  CCAT_CODE REGION_CODE REP_CODE  SETTLE_TERMS  \\\n",
      "0          599000         30          7a       05           0.0   \n",
      "1          999999          0          9a        0           0.0   \n",
      "2          AACJ01         21         25b     ZZZ5           0.0   \n",
      "3          AACJC1         21         25b     ZZZ5           0.0   \n",
      "4          AACJC2          5         20a    CONS4           0.0   \n",
      "\n",
      "   NORMAL_PAYTERMS  DISCOUNT  CREDIT_LIMIT  \n",
      "0               60         0          6000  \n",
      "1                0         0             0  \n",
      "2               90         0        999999  \n",
      "3              120         0        999999  \n",
      "4              120         0        999999  \n"
     ]
    }
   ],
   "source": [
    "print(\"Sample data:\\n\", customer_df.head())"
   ]
  },
  {
   "cell_type": "code",
   "execution_count": 6,
   "id": "bc36fd04",
   "metadata": {},
   "outputs": [
    {
     "name": "stdout",
     "output_type": "stream",
     "text": [
      "Null values:\n",
      " CUSTOMER_NUMBER    0\n",
      "CCAT_CODE          0\n",
      "REGION_CODE        0\n",
      "REP_CODE           0\n",
      "SETTLE_TERMS       1\n",
      "NORMAL_PAYTERMS    0\n",
      "DISCOUNT           0\n",
      "CREDIT_LIMIT       0\n",
      "dtype: int64\n"
     ]
    }
   ],
   "source": [
    "print(\"Null values:\\n\", customer_df.isnull().sum())"
   ]
  },
  {
   "cell_type": "code",
   "execution_count": 7,
   "id": "1c3d1ef1",
   "metadata": {},
   "outputs": [
    {
     "name": "stdout",
     "output_type": "stream",
     "text": [
      "All column names match expected names.\n",
      "Current columns: ['CUSTOMER_NUMBER', 'CCAT_CODE', 'REGION_CODE', 'REP_CODE', 'SETTLE_TERMS', 'NORMAL_PAYTERMS', 'DISCOUNT', 'CREDIT_LIMIT']\n"
     ]
    }
   ],
   "source": [
    "# Remove rows with any null values\n",
    "customer_df_clean = customer_df.dropna()\n",
    "\n",
    "# Clean CUSTOMER_NUMBER: keep only rows where CUSTOMER_NUMBER matches 4 letters followed by 2 digits (e.g., AKRA01)\n",
    "customer_number_pattern = r'^[A-Za-z]{4}\\d{2}$'\n",
    "customer_df_clean = customer_df_clean[customer_df_clean['CUSTOMER_NUMBER'].astype(str).str.match(customer_number_pattern)]\n",
    "\n",
    "# Clean CCAT_CODE: keep only positive integers\n",
    "customer_df_clean = customer_df_clean[customer_df_clean['CCAT_CODE'] > 0]\n",
    "\n",
    "# Clean REGION_CODE: keep only rows where REGION_CODE matches pattern like '7a', '25b', '20a', etc. (1-2 digits + 1 letter)\n",
    "region_code_pattern = r'^\\d{1,2}[A-Za-z]$'\n",
    "customer_df_clean = customer_df_clean[customer_df_clean['REGION_CODE'].astype(str).str.match(region_code_pattern)]\n",
    "\n",
    "# Clean REP_CODE: keep only alphanumeric codes (no special characters)\n",
    "customer_df_clean = customer_df_clean[customer_df_clean['REP_CODE'].astype(str).str.isalnum()]\n",
    "\n",
    "# Clean SETTLE_TERMS: keep only non-negative floats\n",
    "customer_df_clean = customer_df_clean[customer_df_clean['SETTLE_TERMS'] >= 0]\n",
    "\n",
    "# Clean NORMAL_PAYTERMS: keep only positive integers\n",
    "customer_df_clean = customer_df_clean[customer_df_clean['NORMAL_PAYTERMS'] > 0]\n",
    "\n",
    "# Clean DISCOUNT: keep only non-negative integers (assuming discount can't be negative)\n",
    "customer_df_clean = customer_df_clean[customer_df_clean['DISCOUNT'] >= 0]\n",
    "\n",
    "# Clean CREDIT_LIMIT: keep only non-negative integers\n",
    "customer_df_clean = customer_df_clean[customer_df_clean['CREDIT_LIMIT'] >= 0]\n",
    "\n",
    "# Reset index after cleaning\n",
    "customer_df_clean = customer_df_clean.reset_index(drop=True)\n",
    "\n",
    "# Check for possible spelling mistakes in column names by comparing to a reference list\n",
    "expected_columns = [\n",
    "    'CUSTOMER_NUMBER', 'CCAT_CODE', 'REGION_CODE', 'REP_CODE',\n",
    "    'SETTLE_TERMS', 'NORMAL_PAYTERMS', 'DISCOUNT', 'CREDIT_LIMIT'\n",
    "]\n",
    "\n",
    "# Find unexpected columns\n",
    "unexpected_columns = [col for col in customer_df_clean.columns if col not in expected_columns]\n",
    "if unexpected_columns:\n",
    "    print(\"Possible spelling mistakes or unexpected columns:\", unexpected_columns)\n",
    "else:\n",
    "    print(\"All column names match expected names.\")\n",
    "\n",
    "print(\"Current columns:\", customer_df_clean.columns.tolist())\n",
    "\n",
    "# Example: Correct known spelling mistakes in all string/object columns\n",
    "# Define a dictionary of known spelling corrections\n",
    "spelling_corrections = {\n",
    "    'ALLSION': 'ALLISON',\n",
    "    # Add more known corrections here as needed\n",
    "}\n",
    "\n",
    "# Apply corrections to all object (string) columns\n",
    "for col in customer_df_clean.select_dtypes(include='object').columns:\n",
    "    customer_df_clean[col] = customer_df_clean[col].replace(spelling_corrections, regex=False)"
   ]
  },
  {
   "cell_type": "code",
   "execution_count": 8,
   "id": "23245a41",
   "metadata": {},
   "outputs": [
    {
     "name": "stdout",
     "output_type": "stream",
     "text": [
      "Cleaned data shape: (1993, 8)\n"
     ]
    }
   ],
   "source": [
    "# Show cleaned data info\n",
    "print(\"Cleaned data shape:\", customer_df_clean.shape)"
   ]
  },
  {
   "cell_type": "code",
   "execution_count": 9,
   "id": "6457ae42",
   "metadata": {},
   "outputs": [
    {
     "name": "stdout",
     "output_type": "stream",
     "text": [
      "Cleaned sample data:\n",
      "   CUSTOMER_NUMBER  CCAT_CODE REGION_CODE REP_CODE  SETTLE_TERMS  \\\n",
      "0          AACJ01         21         25b     ZZZ5           0.0   \n",
      "1          AAMI01         41         10a       02           0.0   \n",
      "2          AAVN01         21         25b     ZZZ5           0.0   \n",
      "3          ABHG01         49         10a       02           0.0   \n",
      "4          ABHG02         39          6a       04           0.0   \n",
      "\n",
      "   NORMAL_PAYTERMS  DISCOUNT  CREDIT_LIMIT  \n",
      "0               90         0        999999  \n",
      "1              120         0          2000  \n",
      "2              120         0           500  \n",
      "3              120         0          1500  \n",
      "4              120         0          2500  \n"
     ]
    }
   ],
   "source": [
    "print(\"Cleaned sample data:\\n\", customer_df_clean.head())"
   ]
  },
  {
   "cell_type": "code",
   "execution_count": 10,
   "id": "29d15b70",
   "metadata": {},
   "outputs": [],
   "source": [
    "customer_df_clean.to_json(\"customer_df_clean.json\", orient=\"records\", lines=True)\n",
    "\n",
    "customer_df_clean.to_csv(\"customer_df_clean.csv\", index=False)"
   ]
  }
 ],
 "metadata": {
  "kernelspec": {
   "display_name": ".venv",
   "language": "python",
   "name": "python3"
  },
  "language_info": {
   "codemirror_mode": {
    "name": "ipython",
    "version": 3
   },
   "file_extension": ".py",
   "mimetype": "text/x-python",
   "name": "python",
   "nbconvert_exporter": "python",
   "pygments_lexer": "ipython3",
   "version": "3.13.7"
  }
 },
 "nbformat": 4,
 "nbformat_minor": 5
}
