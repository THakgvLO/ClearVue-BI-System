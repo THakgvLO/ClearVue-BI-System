{
 "cells": [
  {
   "cell_type": "code",
   "execution_count": 1,
   "id": "8b14ced6",
   "metadata": {},
   "outputs": [],
   "source": [
    "import pandas as pd\n",
    "import re\n",
    "\n",
    "# Load the data\n",
    "customer_df = pd.read_excel('Data/Customer.xlsx')"
   ]
  },
  {
   "cell_type": "code",
   "execution_count": 2,
   "id": "531cae25",
   "metadata": {},
   "outputs": [
    {
     "name": "stdout",
     "output_type": "stream",
     "text": [
      "Columns: ['CUSTOMER_NUMBER', 'CCAT_CODE', 'REGION_CODE', 'REP_CODE', 'SETTLE_TERMS', 'NORMAL_PAYTERMS', 'DISCOUNT', 'CREDIT_LIMIT']\n"
     ]
    }
   ],
   "source": [
    "print(\"Columns:\", customer_df.columns.tolist())"
   ]
  },
  {
   "cell_type": "code",
   "execution_count": 3,
   "id": "208d082a",
   "metadata": {},
   "outputs": [
    {
     "name": "stdout",
     "output_type": "stream",
     "text": [
      "Sample data:\n",
      "   CUSTOMER_NUMBER  CCAT_CODE REGION_CODE REP_CODE  SETTLE_TERMS  \\\n",
      "0          599000         30          7a       05           0.0   \n",
      "1          999999          0          9a        0           0.0   \n",
      "2          AACJ01         21         25b     ZZZ5           0.0   \n",
      "3          AACJC1         21         25b     ZZZ5           0.0   \n",
      "4          AACJC2          5         20a    CONS4           0.0   \n",
      "\n",
      "   NORMAL_PAYTERMS  DISCOUNT  CREDIT_LIMIT  \n",
      "0               60         0          6000  \n",
      "1                0         0             0  \n",
      "2               90         0        999999  \n",
      "3              120         0        999999  \n",
      "4              120         0        999999  \n"
     ]
    }
   ],
   "source": [
    "print(\"Sample data:\\n\", customer_df.head())"
   ]
  },
  {
   "cell_type": "code",
   "execution_count": 4,
   "id": "bc36fd04",
   "metadata": {},
   "outputs": [
    {
     "name": "stdout",
     "output_type": "stream",
     "text": [
      "Null values:\n",
      " CUSTOMER_NUMBER    0\n",
      "CCAT_CODE          0\n",
      "REGION_CODE        0\n",
      "REP_CODE           0\n",
      "SETTLE_TERMS       1\n",
      "NORMAL_PAYTERMS    0\n",
      "DISCOUNT           0\n",
      "CREDIT_LIMIT       0\n",
      "dtype: int64\n"
     ]
    }
   ],
   "source": [
    "print(\"Null values:\\n\", customer_df.isnull().sum())"
   ]
  },
  {
   "cell_type": "code",
   "execution_count": 5,
   "id": "1c3d1ef1",
   "metadata": {},
   "outputs": [
    {
     "name": "stdout",
     "output_type": "stream",
     "text": [
      "All column names match expected names.\n",
      "Current columns: ['CUSTOMER_NUMBER', 'CCAT_CODE', 'REGION_CODE', 'REP_CODE', 'SETTLE_TERMS', 'NORMAL_PAYTERMS', 'DISCOUNT', 'CREDIT_LIMIT']\n"
     ]
    },
    {
     "name": "stderr",
     "output_type": "stream",
     "text": [
      "C:\\Users\\sltha\\AppData\\Local\\Temp\\ipykernel_25824\\2926993728.py:5: SettingWithCopyWarning: \n",
      "A value is trying to be set on a copy of a slice from a DataFrame.\n",
      "Try using .loc[row_indexer,col_indexer] = value instead\n",
      "\n",
      "See the caveats in the documentation: https://pandas.pydata.org/pandas-docs/stable/user_guide/indexing.html#returning-a-view-versus-a-copy\n",
      "  customer_df_clean['CUSTOMER_NUMBER'] = customer_df_clean['CUSTOMER_NUMBER'].astype(str).str.strip()\n"
     ]
    }
   ],
   "source": [
    "# Remove rows with any null values\n",
    "customer_df_clean = customer_df.dropna()\n",
    "\n",
    "# Clean CUSTOMER_NUMBER: ensure it's a string and strip whitespace\n",
    "customer_df_clean['CUSTOMER_NUMBER'] = customer_df_clean['CUSTOMER_NUMBER'].astype(str).str.strip()\n",
    "\n",
    "# Optional: drop rows where CUSTOMER_NUMBER is missing entirely\n",
    "customer_df_clean = customer_df_clean[customer_df_clean['CUSTOMER_NUMBER'].notna()]\n",
    "\n",
    "# Clean CCAT_CODE: keep only positive integers\n",
    "customer_df_clean = customer_df_clean[customer_df_clean['CCAT_CODE'] > 0]\n",
    "\n",
    "# Clean REGION_CODE: keep only rows where REGION_CODE matches pattern like '7a', '25b', '20a', etc. (1-2 digits + 1 letter)\n",
    "region_code_pattern = r'^\\d{1,2}[A-Za-z]$'\n",
    "customer_df_clean = customer_df_clean[customer_df_clean['REGION_CODE'].astype(str).str.match(region_code_pattern)]\n",
    "\n",
    "# Clean REP_CODE: keep only alphanumeric codes (no special characters)\n",
    "customer_df_clean = customer_df_clean[customer_df_clean['REP_CODE'].astype(str).str.isalnum()]\n",
    "\n",
    "# Clean SETTLE_TERMS: keep only non-negative floats\n",
    "customer_df_clean = customer_df_clean[customer_df_clean['SETTLE_TERMS'] >= 0]\n",
    "\n",
    "# Clean NORMAL_PAYTERMS: keep only positive integers\n",
    "customer_df_clean = customer_df_clean[customer_df_clean['NORMAL_PAYTERMS'] > 0]\n",
    "\n",
    "# Clean DISCOUNT: keep only non-negative integers (assuming discount can't be negative)\n",
    "customer_df_clean = customer_df_clean[customer_df_clean['DISCOUNT'] >= 0]\n",
    "\n",
    "# Clean CREDIT_LIMIT: keep only non-negative integers\n",
    "customer_df_clean = customer_df_clean[customer_df_clean['CREDIT_LIMIT'] >= 0]\n",
    "\n",
    "# Reset index after cleaning\n",
    "customer_df_clean = customer_df_clean.reset_index(drop=True)\n",
    "\n",
    "# Check for possible spelling mistakes in column names by comparing to a reference list\n",
    "expected_columns = [\n",
    "    'CUSTOMER_NUMBER', 'CCAT_CODE', 'REGION_CODE', 'REP_CODE',\n",
    "    'SETTLE_TERMS', 'NORMAL_PAYTERMS', 'DISCOUNT', 'CREDIT_LIMIT'\n",
    "]\n",
    "\n",
    "# Find unexpected columns\n",
    "unexpected_columns = [col for col in customer_df_clean.columns if col not in expected_columns]\n",
    "if unexpected_columns:\n",
    "    print(\"Possible spelling mistakes or unexpected columns:\", unexpected_columns)\n",
    "else:\n",
    "    print(\"All column names match expected names.\")\n",
    "\n",
    "print(\"Current columns:\", customer_df_clean.columns.tolist())\n",
    "\n",
    "# Example: Correct known spelling mistakes in all string/object columns\n",
    "# Define a dictionary of known spelling corrections\n",
    "spelling_corrections = {\n",
    "    'ALLSION': 'ALLISON',\n",
    "    # Add more known corrections here as needed\n",
    "}\n",
    "\n",
    "# Apply corrections to all object (string) columns\n",
    "for col in customer_df_clean.select_dtypes(include='object').columns:\n",
    "    customer_df_clean[col] = customer_df_clean[col].replace(spelling_corrections, regex=False)"
   ]
  },
  {
   "cell_type": "code",
   "execution_count": 6,
   "id": "23245a41",
   "metadata": {},
   "outputs": [
    {
     "name": "stdout",
     "output_type": "stream",
     "text": [
      "Cleaned data shape: (2757, 8)\n"
     ]
    }
   ],
   "source": [
    "# Show cleaned data info\n",
    "print(\"Cleaned data shape:\", customer_df_clean.shape)"
   ]
  },
  {
   "cell_type": "code",
   "execution_count": 7,
   "id": "6457ae42",
   "metadata": {},
   "outputs": [
    {
     "name": "stdout",
     "output_type": "stream",
     "text": [
      "Cleaned sample data:\n",
      "   CUSTOMER_NUMBER  CCAT_CODE REGION_CODE REP_CODE  SETTLE_TERMS  \\\n",
      "0          599000         30          7a       05           0.0   \n",
      "1          AACJ01         21         25b     ZZZ5           0.0   \n",
      "2          AACJC1         21         25b     ZZZ5           0.0   \n",
      "3          AACJC2          5         20a    CONS4           0.0   \n",
      "4          AADPRG          6         21a       XX           0.0   \n",
      "\n",
      "   NORMAL_PAYTERMS  DISCOUNT  CREDIT_LIMIT  \n",
      "0               60         0          6000  \n",
      "1               90         0        999999  \n",
      "2              120         0        999999  \n",
      "3              120         0        999999  \n",
      "4              120         0        999999  \n"
     ]
    }
   ],
   "source": [
    "print(\"Cleaned sample data:\\n\", customer_df_clean.head())"
   ]
  },
  {
   "cell_type": "code",
   "execution_count": 8,
   "id": "236ba5b3",
   "metadata": {},
   "outputs": [
    {
     "data": {
      "text/html": [
       "<div>\n",
       "<style scoped>\n",
       "    .dataframe tbody tr th:only-of-type {\n",
       "        vertical-align: middle;\n",
       "    }\n",
       "\n",
       "    .dataframe tbody tr th {\n",
       "        vertical-align: top;\n",
       "    }\n",
       "\n",
       "    .dataframe thead th {\n",
       "        text-align: right;\n",
       "    }\n",
       "</style>\n",
       "<table border=\"1\" class=\"dataframe\">\n",
       "  <thead>\n",
       "    <tr style=\"text-align: right;\">\n",
       "      <th></th>\n",
       "      <th>CUSTOMER_NUMBER</th>\n",
       "      <th>CCAT_CODE</th>\n",
       "      <th>REGION_CODE</th>\n",
       "      <th>REP_CODE</th>\n",
       "      <th>SETTLE_TERMS</th>\n",
       "      <th>NORMAL_PAYTERMS</th>\n",
       "      <th>DISCOUNT</th>\n",
       "      <th>CREDIT_LIMIT</th>\n",
       "    </tr>\n",
       "  </thead>\n",
       "  <tbody>\n",
       "    <tr>\n",
       "      <th>0</th>\n",
       "      <td>599000</td>\n",
       "      <td>30</td>\n",
       "      <td>7a</td>\n",
       "      <td>05</td>\n",
       "      <td>0.0</td>\n",
       "      <td>60</td>\n",
       "      <td>0</td>\n",
       "      <td>6000</td>\n",
       "    </tr>\n",
       "    <tr>\n",
       "      <th>1</th>\n",
       "      <td>AACJ01</td>\n",
       "      <td>21</td>\n",
       "      <td>25b</td>\n",
       "      <td>ZZZ5</td>\n",
       "      <td>0.0</td>\n",
       "      <td>90</td>\n",
       "      <td>0</td>\n",
       "      <td>999999</td>\n",
       "    </tr>\n",
       "    <tr>\n",
       "      <th>2</th>\n",
       "      <td>AACJC1</td>\n",
       "      <td>21</td>\n",
       "      <td>25b</td>\n",
       "      <td>ZZZ5</td>\n",
       "      <td>0.0</td>\n",
       "      <td>120</td>\n",
       "      <td>0</td>\n",
       "      <td>999999</td>\n",
       "    </tr>\n",
       "    <tr>\n",
       "      <th>3</th>\n",
       "      <td>AACJC2</td>\n",
       "      <td>5</td>\n",
       "      <td>20a</td>\n",
       "      <td>CONS4</td>\n",
       "      <td>0.0</td>\n",
       "      <td>120</td>\n",
       "      <td>0</td>\n",
       "      <td>999999</td>\n",
       "    </tr>\n",
       "    <tr>\n",
       "      <th>4</th>\n",
       "      <td>AADPRG</td>\n",
       "      <td>6</td>\n",
       "      <td>21a</td>\n",
       "      <td>XX</td>\n",
       "      <td>0.0</td>\n",
       "      <td>120</td>\n",
       "      <td>0</td>\n",
       "      <td>999999</td>\n",
       "    </tr>\n",
       "    <tr>\n",
       "      <th>...</th>\n",
       "      <td>...</td>\n",
       "      <td>...</td>\n",
       "      <td>...</td>\n",
       "      <td>...</td>\n",
       "      <td>...</td>\n",
       "      <td>...</td>\n",
       "      <td>...</td>\n",
       "      <td>...</td>\n",
       "    </tr>\n",
       "    <tr>\n",
       "      <th>2752</th>\n",
       "      <td>ZHAY02</td>\n",
       "      <td>19</td>\n",
       "      <td>4b</td>\n",
       "      <td>03</td>\n",
       "      <td>0.0</td>\n",
       "      <td>120</td>\n",
       "      <td>0</td>\n",
       "      <td>2000</td>\n",
       "    </tr>\n",
       "    <tr>\n",
       "      <th>2753</th>\n",
       "      <td>ZMAU01</td>\n",
       "      <td>37</td>\n",
       "      <td>11a</td>\n",
       "      <td>03</td>\n",
       "      <td>0.0</td>\n",
       "      <td>120</td>\n",
       "      <td>0</td>\n",
       "      <td>0</td>\n",
       "    </tr>\n",
       "    <tr>\n",
       "      <th>2754</th>\n",
       "      <td>ZNAE01</td>\n",
       "      <td>46</td>\n",
       "      <td>2b</td>\n",
       "      <td>05</td>\n",
       "      <td>0.0</td>\n",
       "      <td>120</td>\n",
       "      <td>0</td>\n",
       "      <td>30000</td>\n",
       "    </tr>\n",
       "    <tr>\n",
       "      <th>2755</th>\n",
       "      <td>ZNAEOC</td>\n",
       "      <td>5</td>\n",
       "      <td>20a</td>\n",
       "      <td>STAND</td>\n",
       "      <td>0.0</td>\n",
       "      <td>120</td>\n",
       "      <td>0</td>\n",
       "      <td>999999</td>\n",
       "    </tr>\n",
       "    <tr>\n",
       "      <th>2756</th>\n",
       "      <td>ZNAO01</td>\n",
       "      <td>43</td>\n",
       "      <td>3a</td>\n",
       "      <td>06</td>\n",
       "      <td>0.0</td>\n",
       "      <td>120</td>\n",
       "      <td>0</td>\n",
       "      <td>2500</td>\n",
       "    </tr>\n",
       "  </tbody>\n",
       "</table>\n",
       "<p>2757 rows × 8 columns</p>\n",
       "</div>"
      ],
      "text/plain": [
       "     CUSTOMER_NUMBER  CCAT_CODE REGION_CODE REP_CODE  SETTLE_TERMS  \\\n",
       "0             599000         30          7a       05           0.0   \n",
       "1             AACJ01         21         25b     ZZZ5           0.0   \n",
       "2             AACJC1         21         25b     ZZZ5           0.0   \n",
       "3             AACJC2          5         20a    CONS4           0.0   \n",
       "4             AADPRG          6         21a       XX           0.0   \n",
       "...              ...        ...         ...      ...           ...   \n",
       "2752          ZHAY02         19          4b       03           0.0   \n",
       "2753          ZMAU01         37         11a       03           0.0   \n",
       "2754          ZNAE01         46          2b       05           0.0   \n",
       "2755          ZNAEOC          5         20a    STAND           0.0   \n",
       "2756          ZNAO01         43          3a       06           0.0   \n",
       "\n",
       "      NORMAL_PAYTERMS  DISCOUNT  CREDIT_LIMIT  \n",
       "0                  60         0          6000  \n",
       "1                  90         0        999999  \n",
       "2                 120         0        999999  \n",
       "3                 120         0        999999  \n",
       "4                 120         0        999999  \n",
       "...               ...       ...           ...  \n",
       "2752              120         0          2000  \n",
       "2753              120         0             0  \n",
       "2754              120         0         30000  \n",
       "2755              120         0        999999  \n",
       "2756              120         0          2500  \n",
       "\n",
       "[2757 rows x 8 columns]"
      ]
     },
     "execution_count": 8,
     "metadata": {},
     "output_type": "execute_result"
    }
   ],
   "source": [
    "customer_df_clean"
   ]
  },
  {
   "cell_type": "code",
   "execution_count": 9,
   "id": "7098ceea",
   "metadata": {},
   "outputs": [],
   "source": [
    "import os\n",
    "\n",
    "# Define folder paths\n",
    "csv_folder = os.path.join(os.getcwd(), \"csv_outputs\")\n",
    "json_folder = os.path.join(os.getcwd(), \"json_outputs\")\n",
    "\n",
    "# Create folders if they don't exist\n",
    "os.makedirs(csv_folder, exist_ok=True)\n",
    "os.makedirs(json_folder, exist_ok=True)"
   ]
  },
  {
   "cell_type": "code",
   "execution_count": 10,
   "id": "ffaf071a",
   "metadata": {},
   "outputs": [],
   "source": [
    "# Save CSV\n",
    "csv_path = os.path.join(csv_folder, \"customer_df_clean.csv\") #Customer.xlsx\n",
    "customer_df_clean.to_csv(csv_path, index=False)\n",
    "\n",
    "# Save JSON\n",
    "json_path = os.path.join(json_folder, \"customer_df_clean.json\")\n",
    "customer_df_clean.to_json(json_path, orient=\"records\", lines=True)"
   ]
  }
 ],
 "metadata": {
  "kernelspec": {
   "display_name": "3.13.5",
   "language": "python",
   "name": "python3"
  },
  "language_info": {
   "codemirror_mode": {
    "name": "ipython",
    "version": 3
   },
   "file_extension": ".py",
   "mimetype": "text/x-python",
   "name": "python",
   "nbconvert_exporter": "python",
   "pygments_lexer": "ipython3",
   "version": "3.13.5"
  }
 },
 "nbformat": 4,
 "nbformat_minor": 5
}
