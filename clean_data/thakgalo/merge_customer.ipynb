{
 "cells": [
  {
   "cell_type": "code",
   "execution_count": null,
   "id": "a712a5ce",
   "metadata": {},
   "outputs": [],
   "source": [
    "import os\n",
    "import pandas as pd\n",
    "import json\n",
    "from datetime import datetime\n",
    "import warnings\n",
    "warnings.filterwarnings(\"ignore\", category=DeprecationWarning)\n",
    "\n",
    "# Load JSON inputs\n",
    "params_df = pd.read_json(\"json_outputs/customer_params_df_clean.json\", lines=True)\n",
    "age_df = pd.read_json(\"json_outputs/age_analysis_clean.json\", lines=True)[['CUSTOMER_NUMBER', 'TOTAL_DUE', 'OVERDUE_RATIO']]\n",
    "payments_df = pd.read_json(\"json_outputs/payment_lines_clean.json\", lines=True)\n",
    "rep_df = pd.read_json(\"json_outputs/representatives_clean.json\", lines=True)[['REP_CODE', 'REP_DESC', 'COMM_METHOD', 'COMMISSION', 'REP_GROUP']]\n",
    "time_df = pd.read_json(\"json_outputs/dim_time.json\", lines=True)\n",
    "customer_df = pd.read_json(\"json_outputs/customer_df_clean.json\", lines=True)[[\n",
    "    'CUSTOMER_NUMBER', 'CCAT_CODE', 'REGION_CODE', 'REP_CODE',\n",
    "    'SETTLE_TERMS', 'NORMAL_PAYTERMS', 'DISCOUNT', 'CREDIT_LIMIT'\n",
    "]]"
   ]
  },
  {
   "cell_type": "code",
   "execution_count": null,
   "id": "d30ef2d8",
   "metadata": {},
   "outputs": [],
   "source": [
    "csv_folder = os.path.join(os.getcwd(), \"csv_outputs\")\n",
    "json_folder = os.path.join(os.getcwd(), \"json_outputs\")"
   ]
  },
  {
   "cell_type": "code",
   "execution_count": null,
   "id": "9d8bfadb",
   "metadata": {},
   "outputs": [],
   "source": [
    "# Load customer master (fact table)\n",
    "customer_df = pd.read_json(\"json_outputs/customer_df_clean.json\", lines=True)\n",
    "\n",
    "# Merge rep info into master\n",
    "customer_df = customer_df.merge(rep_df, on=\"REP_CODE\", how=\"left\")"
   ]
  },
  {
   "cell_type": "code",
   "execution_count": null,
   "id": "9b323fd3",
   "metadata": {},
   "outputs": [],
   "source": [
    "# Merge core customer data\n",
    "merged_df = customer_df \\\n",
    "    .merge(params_df[['CUSTOMER_NUMBER', 'PARAMETER', 'PARAMETER_GROUP']], on=\"CUSTOMER_NUMBER\", how=\"left\") \\\n",
    "    .merge(age_df, on=\"CUSTOMER_NUMBER\", how=\"left\")\n",
    "\n",
    "# Add account status only\n",
    "account_status_df = params_df[params_df['PARAMETER_GROUP'] == 'Account Status'][['CUSTOMER_NUMBER', 'PARAMETER']]\n",
    "account_status_df = account_status_df.drop_duplicates().rename(columns={\"PARAMETER\": \"ACCOUNT_STATUS\"})\n",
    "merged_df = merged_df.merge(account_status_df, on='CUSTOMER_NUMBER', how='left')"
   ]
  },
  {
   "cell_type": "code",
   "execution_count": null,
   "id": "d1aee93e",
   "metadata": {},
   "outputs": [],
   "source": [
    "# Normalize time dimensions\n",
    "time_df['FIN_PERIOD'] = pd.to_datetime(time_df['FIN_PERIOD']).dt.strftime('%Y%m').astype(int)\n",
    "payments_df['FIN_PERIOD'] = payments_df['FIN_PERIOD'].astype(int)"
   ]
  },
  {
   "cell_type": "code",
   "execution_count": null,
   "id": "93dbe8d1",
   "metadata": {},
   "outputs": [],
   "source": [
    "# Create nested time_segments\n",
    "customer_periods = payments_df[['CUSTOMER_NUMBER', 'FIN_PERIOD']].drop_duplicates()\n",
    "customer_time_segments = customer_periods.merge(time_df, on='FIN_PERIOD', how='left')\n",
    "time_grouped = customer_time_segments.groupby(\"CUSTOMER_NUMBER\", group_keys=False) \\\n",
    "    .apply(lambda x: x.drop(columns=[\"CUSTOMER_NUMBER\"]).to_dict(orient=\"records\")) \\\n",
    "    .reset_index()\n",
    "time_grouped.columns = [\"CUSTOMER_NUMBER\", \"time_segments\"]"
   ]
  },
  {
   "cell_type": "code",
   "execution_count": null,
   "id": "a5b99f09",
   "metadata": {},
   "outputs": [],
   "source": [
    "# Create nested payment_history\n",
    "payment_grouped = payments_df.groupby(\"CUSTOMER_NUMBER\", group_keys=False) \\\n",
    "    .apply(lambda x: x.drop(columns=[\"CUSTOMER_NUMBER\"]).to_dict(orient=\"records\")) \\\n",
    "    .reset_index()\n",
    "payment_grouped.columns = [\"CUSTOMER_NUMBER\", \"payment_history\"]"
   ]
  },
  {
   "cell_type": "code",
   "execution_count": null,
   "id": "2b68f86e",
   "metadata": {},
   "outputs": [],
   "source": [
    "# Merge nested arrays\n",
    "merged_df = merged_df \\\n",
    "    .merge(payment_grouped, on=\"CUSTOMER_NUMBER\", how=\"left\") \\\n",
    "    .merge(time_grouped, on=\"CUSTOMER_NUMBER\", how=\"left\")"
   ]
  },
  {
   "cell_type": "code",
   "execution_count": null,
   "id": "1ecf374c",
   "metadata": {},
   "outputs": [],
   "source": [
    "#IS_OVERDUE (Boolean flag)\n",
    "merged_df['IS_OVERDUE'] = merged_df['OVERDUE_RATIO'].fillna(0) > 0\n",
    "\n",
    "#NUM_PAYMENTS (Count of payment records)\n",
    "payment_grouped['NUM_PAYMENTS'] = payment_grouped['payment_history'].apply(lambda x: len(x) if isinstance(x, list) else 0)\n",
    "merged_df = merged_df.merge(payment_grouped[['CUSTOMER_NUMBER', 'NUM_PAYMENTS']], on='CUSTOMER_NUMBER', how='left')\n",
    "\n",
    "#LAST_PAYMENT_DATE (Recency indicator)\n",
    "def get_last_payment(payments):\n",
    "    dates = [p.get('DEPOSIT_DATE') for p in payments if 'DEPOSIT_DATE' in p]\n",
    "    return max(dates) if dates else None\n",
    "\n",
    "payment_grouped['LAST_PAYMENT_DATE'] = payment_grouped['payment_history'].apply(get_last_payment)\n",
    "merged_df = merged_df.merge(payment_grouped[['CUSTOMER_NUMBER', 'LAST_PAYMENT_DATE']], on='CUSTOMER_NUMBER', how='left')"
   ]
  },
  {
   "cell_type": "code",
   "execution_count": null,
   "id": "2eb84295",
   "metadata": {},
   "outputs": [],
   "source": [
    "merged_df.shape"
   ]
  },
  {
   "cell_type": "code",
   "execution_count": null,
   "id": "dab4974c",
   "metadata": {},
   "outputs": [],
   "source": [
    "merged_df.columns.tolist()"
   ]
  },
  {
   "cell_type": "code",
   "execution_count": null,
   "id": "2995aafc",
   "metadata": {},
   "outputs": [],
   "source": [
    "merged_df"
   ]
  },
  {
   "cell_type": "code",
   "execution_count": null,
   "id": "ae45c74f",
   "metadata": {},
   "outputs": [],
   "source": [
    "merged_df.to_csv(os.path.join(csv_folder, \"customer_merged.csv\"), index=False)\n",
    "merged_df.to_json(os.path.join(json_folder, \"customer_merged.json\"), orient=\"records\", lines=True)"
   ]
  }
 ],
 "metadata": {
  "kernelspec": {
   "display_name": "Python 3",
   "language": "python",
   "name": "python3"
  },
  "language_info": {
   "codemirror_mode": {
    "name": "ipython",
    "version": 3
   },
   "file_extension": ".py",
   "mimetype": "text/x-python",
   "name": "python",
   "nbconvert_exporter": "python",
   "pygments_lexer": "ipython3",
   "version": "3.13.5"
  }
 },
 "nbformat": 4,
 "nbformat_minor": 5
}