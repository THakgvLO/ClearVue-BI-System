{
 "cells": [
  {
   "cell_type": "code",
   "execution_count": 35,
   "id": "06df23bc",
   "metadata": {},
   "outputs": [],
   "source": [
    "import pandas as pd\n",
    "import re\n",
    "import numpy as np\n",
    "import matplotlib\n",
    "import matplotlib.pyplot as plt\n",
    "import seaborn as sns\n",
    "import os"
   ]
  },
  {
   "cell_type": "code",
   "execution_count": 36,
   "id": "c0dc786c",
   "metadata": {},
   "outputs": [],
   "source": [
    "# Load the data\n",
    "payment_header_df = pd.read_excel('Data/Payment Header.xlsx')\n",
    "\n",
    "csv_folder = os.path.join(os.getcwd(), \"csv_outputs\")\n",
    "json_folder = os.path.join(os.getcwd(), \"json_outputs\")"
   ]
  },
  {
   "cell_type": "code",
   "execution_count": 37,
   "id": "c092119d",
   "metadata": {},
   "outputs": [
    {
     "name": "stdout",
     "output_type": "stream",
     "text": [
      "Columns: ['CUSTOMER_NUMBER', 'DEPOSIT_REF']\n"
     ]
    }
   ],
   "source": [
    "print(\"Columns:\", payment_header_df.columns.tolist())"
   ]
  },
  {
   "cell_type": "code",
   "execution_count": 38,
   "id": "3b713dec",
   "metadata": {},
   "outputs": [
    {
     "name": "stdout",
     "output_type": "stream",
     "text": [
      "Sample data:\n",
      "   CUSTOMER_NUMBER DEPOSIT_REF\n",
      "0          599000    DB04-153\n",
      "1          599000    DB04-180\n",
      "2          599000    DB05-036\n",
      "3          599000    DB05-061\n",
      "4          599000    DB05-118\n"
     ]
    }
   ],
   "source": [
    "print(\"Sample data:\\n\", payment_header_df.head())"
   ]
  },
  {
   "cell_type": "code",
   "execution_count": 39,
   "id": "7d405bd4",
   "metadata": {},
   "outputs": [
    {
     "name": "stdout",
     "output_type": "stream",
     "text": [
      "Null values:\n",
      " CUSTOMER_NUMBER    0\n",
      "DEPOSIT_REF        0\n",
      "dtype: int64\n"
     ]
    }
   ],
   "source": [
    "print(\"Null values:\\n\", payment_header_df.isnull().sum())"
   ]
  },
  {
   "cell_type": "code",
   "execution_count": 40,
   "id": "98ab7c0e",
   "metadata": {},
   "outputs": [],
   "source": [
    "# Remove rows with any null values\n",
    "payment_header_df = payment_header_df.dropna()"
   ]
  },
  {
   "cell_type": "code",
   "execution_count": 41,
   "id": "129de88d",
   "metadata": {},
   "outputs": [
    {
     "name": "stdout",
     "output_type": "stream",
     "text": [
      "Data shape: (2631, 2)\n"
     ]
    }
   ],
   "source": [
    "print(\"Data shape:\", payment_header_df.shape)"
   ]
  },
  {
   "cell_type": "code",
   "execution_count": 42,
   "id": "7ec86694",
   "metadata": {},
   "outputs": [
    {
     "data": {
      "text/html": [
       "<div>\n",
       "<style scoped>\n",
       "    .dataframe tbody tr th:only-of-type {\n",
       "        vertical-align: middle;\n",
       "    }\n",
       "\n",
       "    .dataframe tbody tr th {\n",
       "        vertical-align: top;\n",
       "    }\n",
       "\n",
       "    .dataframe thead th {\n",
       "        text-align: right;\n",
       "    }\n",
       "</style>\n",
       "<table border=\"1\" class=\"dataframe\">\n",
       "  <thead>\n",
       "    <tr style=\"text-align: right;\">\n",
       "      <th></th>\n",
       "      <th>CUSTOMER_NUMBER</th>\n",
       "      <th>DEPOSIT_REF</th>\n",
       "    </tr>\n",
       "  </thead>\n",
       "  <tbody>\n",
       "    <tr>\n",
       "      <th>0</th>\n",
       "      <td>599000</td>\n",
       "      <td>DB04-153</td>\n",
       "    </tr>\n",
       "    <tr>\n",
       "      <th>1</th>\n",
       "      <td>599000</td>\n",
       "      <td>DB04-180</td>\n",
       "    </tr>\n",
       "    <tr>\n",
       "      <th>2</th>\n",
       "      <td>599000</td>\n",
       "      <td>DB05-036</td>\n",
       "    </tr>\n",
       "    <tr>\n",
       "      <th>3</th>\n",
       "      <td>599000</td>\n",
       "      <td>DB05-061</td>\n",
       "    </tr>\n",
       "    <tr>\n",
       "      <th>4</th>\n",
       "      <td>599000</td>\n",
       "      <td>DB05-118</td>\n",
       "    </tr>\n",
       "    <tr>\n",
       "      <th>...</th>\n",
       "      <td>...</td>\n",
       "      <td>...</td>\n",
       "    </tr>\n",
       "    <tr>\n",
       "      <th>2626</th>\n",
       "      <td>ZNAE01</td>\n",
       "      <td>DD09-013</td>\n",
       "    </tr>\n",
       "    <tr>\n",
       "      <th>2627</th>\n",
       "      <td>ZNAO01</td>\n",
       "      <td>DD04-005</td>\n",
       "    </tr>\n",
       "    <tr>\n",
       "      <th>2628</th>\n",
       "      <td>ZNAO01</td>\n",
       "      <td>DD08-014</td>\n",
       "    </tr>\n",
       "    <tr>\n",
       "      <th>2629</th>\n",
       "      <td>ZNAO01</td>\n",
       "      <td>DD09-014</td>\n",
       "    </tr>\n",
       "    <tr>\n",
       "      <th>2630</th>\n",
       "      <td>ZNAO01</td>\n",
       "      <td>DD11-014</td>\n",
       "    </tr>\n",
       "  </tbody>\n",
       "</table>\n",
       "<p>2631 rows × 2 columns</p>\n",
       "</div>"
      ],
      "text/plain": [
       "     CUSTOMER_NUMBER DEPOSIT_REF\n",
       "0             599000    DB04-153\n",
       "1             599000    DB04-180\n",
       "2             599000    DB05-036\n",
       "3             599000    DB05-061\n",
       "4             599000    DB05-118\n",
       "...              ...         ...\n",
       "2626          ZNAE01    DD09-013\n",
       "2627          ZNAO01    DD04-005\n",
       "2628          ZNAO01    DD08-014\n",
       "2629          ZNAO01    DD09-014\n",
       "2630          ZNAO01    DD11-014\n",
       "\n",
       "[2631 rows x 2 columns]"
      ]
     },
     "execution_count": 42,
     "metadata": {},
     "output_type": "execute_result"
    }
   ],
   "source": [
    "payment_header_df"
   ]
  },
  {
   "cell_type": "code",
   "execution_count": 43,
   "id": "4e3453b1",
   "metadata": {},
   "outputs": [],
   "source": [
    "# Define valid formats\n",
    "valid_mask = payment_header_df['CUSTOMER_NUMBER'].str.match(r'^[A-Z]{4}([A-Z]{2}|[A-Z][0-9]|[0-9]{2})$', na=False)\n",
    "\n",
    "# Filter valid entries\n",
    "valid_customers_df = payment_header_df[valid_mask].copy()"
   ]
  },
  {
   "cell_type": "code",
   "execution_count": 44,
   "id": "a9bf865c",
   "metadata": {},
   "outputs": [
    {
     "data": {
      "text/html": [
       "<div>\n",
       "<style scoped>\n",
       "    .dataframe tbody tr th:only-of-type {\n",
       "        vertical-align: middle;\n",
       "    }\n",
       "\n",
       "    .dataframe tbody tr th {\n",
       "        vertical-align: top;\n",
       "    }\n",
       "\n",
       "    .dataframe thead th {\n",
       "        text-align: right;\n",
       "    }\n",
       "</style>\n",
       "<table border=\"1\" class=\"dataframe\">\n",
       "  <thead>\n",
       "    <tr style=\"text-align: right;\">\n",
       "      <th></th>\n",
       "      <th>CUSTOMER_NUMBER</th>\n",
       "      <th>DEPOSIT_REF</th>\n",
       "    </tr>\n",
       "  </thead>\n",
       "  <tbody>\n",
       "    <tr>\n",
       "      <th>49</th>\n",
       "      <td>AAMI01</td>\n",
       "      <td>DB09-026</td>\n",
       "    </tr>\n",
       "    <tr>\n",
       "      <th>50</th>\n",
       "      <td>ABHG01</td>\n",
       "      <td>DB06-176</td>\n",
       "    </tr>\n",
       "    <tr>\n",
       "      <th>51</th>\n",
       "      <td>ABHN01</td>\n",
       "      <td>DB08-195</td>\n",
       "    </tr>\n",
       "    <tr>\n",
       "      <th>52</th>\n",
       "      <td>ABHN02</td>\n",
       "      <td>DB09-181</td>\n",
       "    </tr>\n",
       "    <tr>\n",
       "      <th>53</th>\n",
       "      <td>ABRC01</td>\n",
       "      <td>DB05-041</td>\n",
       "    </tr>\n",
       "    <tr>\n",
       "      <th>...</th>\n",
       "      <td>...</td>\n",
       "      <td>...</td>\n",
       "    </tr>\n",
       "    <tr>\n",
       "      <th>2626</th>\n",
       "      <td>ZNAE01</td>\n",
       "      <td>DD09-013</td>\n",
       "    </tr>\n",
       "    <tr>\n",
       "      <th>2627</th>\n",
       "      <td>ZNAO01</td>\n",
       "      <td>DD04-005</td>\n",
       "    </tr>\n",
       "    <tr>\n",
       "      <th>2628</th>\n",
       "      <td>ZNAO01</td>\n",
       "      <td>DD08-014</td>\n",
       "    </tr>\n",
       "    <tr>\n",
       "      <th>2629</th>\n",
       "      <td>ZNAO01</td>\n",
       "      <td>DD09-014</td>\n",
       "    </tr>\n",
       "    <tr>\n",
       "      <th>2630</th>\n",
       "      <td>ZNAO01</td>\n",
       "      <td>DD11-014</td>\n",
       "    </tr>\n",
       "  </tbody>\n",
       "</table>\n",
       "<p>2487 rows × 2 columns</p>\n",
       "</div>"
      ],
      "text/plain": [
       "     CUSTOMER_NUMBER DEPOSIT_REF\n",
       "49            AAMI01    DB09-026\n",
       "50            ABHG01    DB06-176\n",
       "51            ABHN01    DB08-195\n",
       "52            ABHN02    DB09-181\n",
       "53            ABRC01    DB05-041\n",
       "...              ...         ...\n",
       "2626          ZNAE01    DD09-013\n",
       "2627          ZNAO01    DD04-005\n",
       "2628          ZNAO01    DD08-014\n",
       "2629          ZNAO01    DD09-014\n",
       "2630          ZNAO01    DD11-014\n",
       "\n",
       "[2487 rows x 2 columns]"
      ]
     },
     "execution_count": 44,
     "metadata": {},
     "output_type": "execute_result"
    }
   ],
   "source": [
    "valid_customers_df"
   ]
  },
  {
   "cell_type": "markdown",
   "id": "afdbbb13",
   "metadata": {},
   "source": [
    "## SEGMENTATION AND GROUPINGS"
   ]
  },
  {
   "cell_type": "markdown",
   "id": "e3081edb",
   "metadata": {},
   "source": [
    "### Group by CUSTOMER_NUMBER and Number of Deposits"
   ]
  },
  {
   "cell_type": "code",
   "execution_count": 45,
   "id": "6aebff43",
   "metadata": {},
   "outputs": [
    {
     "data": {
      "text/html": [
       "<div>\n",
       "<style scoped>\n",
       "    .dataframe tbody tr th:only-of-type {\n",
       "        vertical-align: middle;\n",
       "    }\n",
       "\n",
       "    .dataframe tbody tr th {\n",
       "        vertical-align: top;\n",
       "    }\n",
       "\n",
       "    .dataframe thead th {\n",
       "        text-align: right;\n",
       "    }\n",
       "</style>\n",
       "<table border=\"1\" class=\"dataframe\">\n",
       "  <thead>\n",
       "    <tr style=\"text-align: right;\">\n",
       "      <th></th>\n",
       "      <th>CUSTOMER_NUMBER</th>\n",
       "      <th>NUM_DEPOSITS</th>\n",
       "    </tr>\n",
       "  </thead>\n",
       "  <tbody>\n",
       "    <tr>\n",
       "      <th>0</th>\n",
       "      <td>AAMI01</td>\n",
       "      <td>1</td>\n",
       "    </tr>\n",
       "    <tr>\n",
       "      <th>1</th>\n",
       "      <td>ABHG01</td>\n",
       "      <td>1</td>\n",
       "    </tr>\n",
       "    <tr>\n",
       "      <th>2</th>\n",
       "      <td>ABHN01</td>\n",
       "      <td>1</td>\n",
       "    </tr>\n",
       "    <tr>\n",
       "      <th>3</th>\n",
       "      <td>ABHN02</td>\n",
       "      <td>1</td>\n",
       "    </tr>\n",
       "    <tr>\n",
       "      <th>4</th>\n",
       "      <td>ABRC01</td>\n",
       "      <td>2</td>\n",
       "    </tr>\n",
       "    <tr>\n",
       "      <th>...</th>\n",
       "      <td>...</td>\n",
       "      <td>...</td>\n",
       "    </tr>\n",
       "    <tr>\n",
       "      <th>840</th>\n",
       "      <td>ZDOE01</td>\n",
       "      <td>4</td>\n",
       "    </tr>\n",
       "    <tr>\n",
       "      <th>841</th>\n",
       "      <td>ZHAY02</td>\n",
       "      <td>2</td>\n",
       "    </tr>\n",
       "    <tr>\n",
       "      <th>842</th>\n",
       "      <td>ZMAU01</td>\n",
       "      <td>1</td>\n",
       "    </tr>\n",
       "    <tr>\n",
       "      <th>843</th>\n",
       "      <td>ZNAE01</td>\n",
       "      <td>7</td>\n",
       "    </tr>\n",
       "    <tr>\n",
       "      <th>844</th>\n",
       "      <td>ZNAO01</td>\n",
       "      <td>4</td>\n",
       "    </tr>\n",
       "  </tbody>\n",
       "</table>\n",
       "<p>845 rows × 2 columns</p>\n",
       "</div>"
      ],
      "text/plain": [
       "    CUSTOMER_NUMBER  NUM_DEPOSITS\n",
       "0            AAMI01             1\n",
       "1            ABHG01             1\n",
       "2            ABHN01             1\n",
       "3            ABHN02             1\n",
       "4            ABRC01             2\n",
       "..              ...           ...\n",
       "840          ZDOE01             4\n",
       "841          ZHAY02             2\n",
       "842          ZMAU01             1\n",
       "843          ZNAE01             7\n",
       "844          ZNAO01             4\n",
       "\n",
       "[845 rows x 2 columns]"
      ]
     },
     "execution_count": 45,
     "metadata": {},
     "output_type": "execute_result"
    }
   ],
   "source": [
    "deposit_counts = valid_customers_df.groupby('CUSTOMER_NUMBER')['DEPOSIT_REF'].nunique().reset_index()\n",
    "deposit_counts.rename(columns={'DEPOSIT_REF': 'NUM_DEPOSITS'}, inplace=True)\n",
    "\n",
    "deposit_counts"
   ]
  },
  {
   "cell_type": "markdown",
   "id": "d40fbecc",
   "metadata": {},
   "source": [
    "### Segment Customers by Deposit Volume"
   ]
  },
  {
   "cell_type": "code",
   "execution_count": 46,
   "id": "fdebc2ed",
   "metadata": {},
   "outputs": [
    {
     "data": {
      "text/html": [
       "<div>\n",
       "<style scoped>\n",
       "    .dataframe tbody tr th:only-of-type {\n",
       "        vertical-align: middle;\n",
       "    }\n",
       "\n",
       "    .dataframe tbody tr th {\n",
       "        vertical-align: top;\n",
       "    }\n",
       "\n",
       "    .dataframe thead th {\n",
       "        text-align: right;\n",
       "    }\n",
       "</style>\n",
       "<table border=\"1\" class=\"dataframe\">\n",
       "  <thead>\n",
       "    <tr style=\"text-align: right;\">\n",
       "      <th></th>\n",
       "      <th>CUSTOMER_NUMBER</th>\n",
       "      <th>NUM_DEPOSITS</th>\n",
       "      <th>SEGMENT</th>\n",
       "    </tr>\n",
       "  </thead>\n",
       "  <tbody>\n",
       "    <tr>\n",
       "      <th>0</th>\n",
       "      <td>AAMI01</td>\n",
       "      <td>1</td>\n",
       "      <td>Single Deposit</td>\n",
       "    </tr>\n",
       "    <tr>\n",
       "      <th>1</th>\n",
       "      <td>ABHG01</td>\n",
       "      <td>1</td>\n",
       "      <td>Single Deposit</td>\n",
       "    </tr>\n",
       "    <tr>\n",
       "      <th>2</th>\n",
       "      <td>ABHN01</td>\n",
       "      <td>1</td>\n",
       "      <td>Single Deposit</td>\n",
       "    </tr>\n",
       "    <tr>\n",
       "      <th>3</th>\n",
       "      <td>ABHN02</td>\n",
       "      <td>1</td>\n",
       "      <td>Single Deposit</td>\n",
       "    </tr>\n",
       "    <tr>\n",
       "      <th>4</th>\n",
       "      <td>ABRC01</td>\n",
       "      <td>2</td>\n",
       "      <td>Low Activity (2–5)</td>\n",
       "    </tr>\n",
       "    <tr>\n",
       "      <th>...</th>\n",
       "      <td>...</td>\n",
       "      <td>...</td>\n",
       "      <td>...</td>\n",
       "    </tr>\n",
       "    <tr>\n",
       "      <th>840</th>\n",
       "      <td>ZDOE01</td>\n",
       "      <td>4</td>\n",
       "      <td>Low Activity (2–5)</td>\n",
       "    </tr>\n",
       "    <tr>\n",
       "      <th>841</th>\n",
       "      <td>ZHAY02</td>\n",
       "      <td>2</td>\n",
       "      <td>Low Activity (2–5)</td>\n",
       "    </tr>\n",
       "    <tr>\n",
       "      <th>842</th>\n",
       "      <td>ZMAU01</td>\n",
       "      <td>1</td>\n",
       "      <td>Single Deposit</td>\n",
       "    </tr>\n",
       "    <tr>\n",
       "      <th>843</th>\n",
       "      <td>ZNAE01</td>\n",
       "      <td>7</td>\n",
       "      <td>Moderate Activity (6–10)</td>\n",
       "    </tr>\n",
       "    <tr>\n",
       "      <th>844</th>\n",
       "      <td>ZNAO01</td>\n",
       "      <td>4</td>\n",
       "      <td>Low Activity (2–5)</td>\n",
       "    </tr>\n",
       "  </tbody>\n",
       "</table>\n",
       "<p>845 rows × 3 columns</p>\n",
       "</div>"
      ],
      "text/plain": [
       "    CUSTOMER_NUMBER  NUM_DEPOSITS                   SEGMENT\n",
       "0            AAMI01             1            Single Deposit\n",
       "1            ABHG01             1            Single Deposit\n",
       "2            ABHN01             1            Single Deposit\n",
       "3            ABHN02             1            Single Deposit\n",
       "4            ABRC01             2        Low Activity (2–5)\n",
       "..              ...           ...                       ...\n",
       "840          ZDOE01             4        Low Activity (2–5)\n",
       "841          ZHAY02             2        Low Activity (2–5)\n",
       "842          ZMAU01             1            Single Deposit\n",
       "843          ZNAE01             7  Moderate Activity (6–10)\n",
       "844          ZNAO01             4        Low Activity (2–5)\n",
       "\n",
       "[845 rows x 3 columns]"
      ]
     },
     "execution_count": 46,
     "metadata": {},
     "output_type": "execute_result"
    }
   ],
   "source": [
    "def segment_customer(n):\n",
    "    if n == 1:\n",
    "        return 'Single Deposit'\n",
    "    elif n <= 5:\n",
    "        return 'Low Activity (2–5)'\n",
    "    elif n <= 10:\n",
    "        return 'Moderate Activity (6–10)'\n",
    "    else:\n",
    "        return 'High Activity (>10)'\n",
    "\n",
    "deposit_counts['SEGMENT'] = deposit_counts['NUM_DEPOSITS'].apply(segment_customer)\n",
    "\n",
    "deposit_counts"
   ]
  },
  {
   "cell_type": "code",
   "execution_count": 47,
   "id": "62ee3af1",
   "metadata": {},
   "outputs": [],
   "source": [
    "valid_customers_df.to_csv(os.path.join(csv_folder, \"payment_headers_clean.csv\"), index=False)\n",
    "valid_customers_df.to_json(os.path.join(json_folder, \"payment_headers_clean.json\"), orient=\"records\", lines=True)"
   ]
  },
  {
   "cell_type": "markdown",
   "id": "7d8cf265",
   "metadata": {},
   "source": [
    "## VISUALIZATION"
   ]
  },
  {
   "cell_type": "markdown",
   "id": "99234e00",
   "metadata": {},
   "source": [
    "### Distribution of Deposit Counts"
   ]
  },
  {
   "cell_type": "code",
   "execution_count": 48,
   "id": "02ae43b5",
   "metadata": {},
   "outputs": [
    {
     "data": {
      "image/png": "[encoded data removed]",
      "text/plain": [
       "<Figure size 1000x500 with 1 Axes>"
      ]
     },
     "metadata": {},
     "output_type": "display_data"
    }
   ],
   "source": [
    "plt.figure(figsize=(10, 5))\n",
    "sns.histplot(deposit_counts['NUM_DEPOSITS'], bins=20, kde=False)\n",
    "plt.title('Distribution of Deposit Counts per Customer')\n",
    "plt.xlabel('Number of Deposits')\n",
    "plt.ylabel('Number of Customers')\n",
    "plt.tight_layout()\n",
    "plt.show()"
   ]
  },
  {
   "cell_type": "markdown",
   "id": "ada5fbde",
   "metadata": {},
   "source": [
    "## Segment Breakdown"
   ]
  },
  {
   "cell_type": "code",
   "execution_count": 49,
   "id": "d520903c",
   "metadata": {},
   "outputs": [
    {
     "data": {
      "image/png": "[encoded data removed]",
      "text/plain": [
       "<Figure size 800x400 with 1 Axes>"
      ]
     },
     "metadata": {},
     "output_type": "display_data"
    }
   ],
   "source": [
    "plt.figure(figsize=(8, 4))\n",
    "sns.countplot(data=deposit_counts, x='SEGMENT', order=['Single Deposit', 'Low Activity (2–5)', 'Moderate Activity (6–10)', 'High Activity (>10)'])\n",
    "plt.title('Customer Segments by Deposit Activity')\n",
    "plt.xlabel('Segment')\n",
    "plt.ylabel('Customer Count')\n",
    "plt.tight_layout()\n",
    "plt.show()"
   ]
  },
  {
   "cell_type": "markdown",
   "id": "5e9a6575",
   "metadata": {},
   "source": [
    "## Top Customers by Deposit Volume"
   ]
  },
  {
   "cell_type": "code",
   "execution_count": 50,
   "id": "24e12f44",
   "metadata": {},
   "outputs": [
    {
     "data": {
      "image/png": "[encoded data removed]",
      "text/plain": [
       "<Figure size 1000x500 with 1 Axes>"
      ]
     },
     "metadata": {},
     "output_type": "display_data"
    }
   ],
   "source": [
    "top_customers = deposit_counts.sort_values('NUM_DEPOSITS', ascending=False).head(10)\n",
    "\n",
    "plt.figure(figsize=(10, 5))\n",
    "sns.barplot(data=top_customers, x='CUSTOMER_NUMBER', y='NUM_DEPOSITS')\n",
    "plt.title('Top 10 Customers by Deposit Volume')\n",
    "plt.xlabel('Customer Number')\n",
    "plt.ylabel('Number of Deposits')\n",
    "plt.xticks(rotation=45)\n",
    "plt.tight_layout()\n",
    "plt.show()"
   ]
  }
 ],
 "metadata": {
  "kernelspec": {
   "display_name": "3.13.5",
   "language": "python",
   "name": "python3"
  },
  "language_info": {
   "codemirror_mode": {
    "name": "ipython",
    "version": 3
   },
   "file_extension": ".py",
   "mimetype": "text/x-python",
   "name": "python",
   "nbconvert_exporter": "python",
   "pygments_lexer": "ipython3",
   "version": "3.13.5"
  }
 },
 "nbformat": 4,
 "nbformat_minor": 5
}
