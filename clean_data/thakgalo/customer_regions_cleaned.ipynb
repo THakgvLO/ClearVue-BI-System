{
 "cells": [
  {
   "cell_type": "code",
   "execution_count": 70,
   "id": "3e3adce5",
   "metadata": {},
   "outputs": [],
   "source": [
    "import pandas as pd\n",
    "import re\n",
    "import numpy as np\n",
    "\n",
    "# Load the data\n",
    "customer_regions_df = pd.read_excel('Data/Customer Regions.xlsx')"
   ]
  },
  {
   "cell_type": "code",
   "execution_count": 71,
   "id": "aca4b532",
   "metadata": {},
   "outputs": [],
   "source": [
    "import os\n",
    "\n",
    "csv_folder = os.path.join(os.getcwd(), \"csv_outputs\")\n",
    "json_folder = os.path.join(os.getcwd(), \"json_outputs\")"
   ]
  },
  {
   "cell_type": "code",
   "execution_count": 72,
   "id": "8e3cfd43",
   "metadata": {},
   "outputs": [
    {
     "name": "stdout",
     "output_type": "stream",
     "text": [
      "Columns: ['REGION_CODE', 'REGION_DESC']\n"
     ]
    }
   ],
   "source": [
    "print(\"Columns:\", customer_regions_df.columns.tolist())"
   ]
  },
  {
   "cell_type": "code",
   "execution_count": 73,
   "id": "1b2a4421",
   "metadata": {},
   "outputs": [
    {
     "name": "stdout",
     "output_type": "stream",
     "text": [
      "Sample data:\n",
      "   REGION_CODE           REGION_DESC\n",
      "0         000               Unknown\n",
      "1         10a                Durban\n",
      "2         10b              Midlands\n",
      "3         11a  Free State / Lesotho\n",
      "4         11b  Ermelo / Piet Retief\n"
     ]
    }
   ],
   "source": [
    "print(\"Sample data:\\n\", customer_regions_df.head())"
   ]
  },
  {
   "cell_type": "code",
   "execution_count": 74,
   "id": "cba9fd13",
   "metadata": {},
   "outputs": [
    {
     "name": "stdout",
     "output_type": "stream",
     "text": [
      "Null values:\n",
      " REGION_CODE    0\n",
      "REGION_DESC    0\n",
      "dtype: int64\n"
     ]
    }
   ],
   "source": [
    "print(\"Null values:\\n\", customer_regions_df.isnull().sum())"
   ]
  },
  {
   "cell_type": "code",
   "execution_count": 75,
   "id": "66152811",
   "metadata": {},
   "outputs": [],
   "source": [
    "# Remove rows with any null values\n",
    "customer_regions_df_clean = customer_regions_df.dropna()"
   ]
  },
  {
   "cell_type": "code",
   "execution_count": 76,
   "id": "b6d149c8",
   "metadata": {},
   "outputs": [
    {
     "name": "stdout",
     "output_type": "stream",
     "text": [
      "Cleaned data shape: (34, 2)\n"
     ]
    }
   ],
   "source": [
    "print(\"Cleaned data shape:\", customer_regions_df_clean.shape)"
   ]
  },
  {
   "cell_type": "code",
   "execution_count": 77,
   "id": "082424b0",
   "metadata": {},
   "outputs": [],
   "source": [
    "#Manual identification of the invalid region descriptions (REGION_DESC that do not make sense in the context of the Customer Regions table)\n",
    "#THIS \"~\" is to EXCLUDE the invalid region descriptions and their corresponding region codes from the dataframe\n",
    "invalid_labels = [\n",
    "    \"Unknown\", \"Samples\", \"ADAPRO\", \"Stock - Defectives\", \"Closed - Bad Debts\",\n",
    "    \"Closed\", \"CONS\", \"Stores\", \"House Accounts\", \"Reps Trip - Botswana\"\n",
    "]\n",
    "customer_regions_df_clean = customer_regions_df_clean[\n",
    "    ~customer_regions_df_clean['REGION_DESC'].isin(invalid_labels)\n",
    "    \n",
    "]"
   ]
  },
  {
   "cell_type": "code",
   "execution_count": 78,
   "id": "9ce1ba43",
   "metadata": {},
   "outputs": [
    {
     "data": {
      "text/html": [
       "<div>\n",
       "<style scoped>\n",
       "    .dataframe tbody tr th:only-of-type {\n",
       "        vertical-align: middle;\n",
       "    }\n",
       "\n",
       "    .dataframe tbody tr th {\n",
       "        vertical-align: top;\n",
       "    }\n",
       "\n",
       "    .dataframe thead th {\n",
       "        text-align: right;\n",
       "    }\n",
       "</style>\n",
       "<table border=\"1\" class=\"dataframe\">\n",
       "  <thead>\n",
       "    <tr style=\"text-align: right;\">\n",
       "      <th></th>\n",
       "      <th>REGION_CODE</th>\n",
       "      <th>REGION_DESC</th>\n",
       "    </tr>\n",
       "  </thead>\n",
       "  <tbody>\n",
       "    <tr>\n",
       "      <th>1</th>\n",
       "      <td>10a</td>\n",
       "      <td>Durban</td>\n",
       "    </tr>\n",
       "    <tr>\n",
       "      <th>2</th>\n",
       "      <td>10b</td>\n",
       "      <td>Midlands</td>\n",
       "    </tr>\n",
       "    <tr>\n",
       "      <th>3</th>\n",
       "      <td>11a</td>\n",
       "      <td>Free State / Lesotho</td>\n",
       "    </tr>\n",
       "    <tr>\n",
       "      <th>4</th>\n",
       "      <td>11b</td>\n",
       "      <td>Ermelo / Piet Retief</td>\n",
       "    </tr>\n",
       "    <tr>\n",
       "      <th>6</th>\n",
       "      <td>1a</td>\n",
       "      <td>Pretoria Central</td>\n",
       "    </tr>\n",
       "    <tr>\n",
       "      <th>7</th>\n",
       "      <td>1b</td>\n",
       "      <td>Pretoria North/South/West</td>\n",
       "    </tr>\n",
       "    <tr>\n",
       "      <th>8</th>\n",
       "      <td>1c</td>\n",
       "      <td>Pretoria East</td>\n",
       "    </tr>\n",
       "    <tr>\n",
       "      <th>9</th>\n",
       "      <td>1d</td>\n",
       "      <td>Pretoria</td>\n",
       "    </tr>\n",
       "    <tr>\n",
       "      <th>10</th>\n",
       "      <td>1e</td>\n",
       "      <td>Witbank/Middelburg</td>\n",
       "    </tr>\n",
       "    <tr>\n",
       "      <th>17</th>\n",
       "      <td>2a</td>\n",
       "      <td>Vaal Triangle</td>\n",
       "    </tr>\n",
       "    <tr>\n",
       "      <th>18</th>\n",
       "      <td>2b</td>\n",
       "      <td>Krugersdorp / Sun City</td>\n",
       "    </tr>\n",
       "    <tr>\n",
       "      <th>19</th>\n",
       "      <td>2c</td>\n",
       "      <td>Potch / Krugersdorp / Kuruman</td>\n",
       "    </tr>\n",
       "    <tr>\n",
       "      <th>20</th>\n",
       "      <td>2d</td>\n",
       "      <td>Rustenburg</td>\n",
       "    </tr>\n",
       "    <tr>\n",
       "      <th>21</th>\n",
       "      <td>3a</td>\n",
       "      <td>Soweto/Lenasia</td>\n",
       "    </tr>\n",
       "    <tr>\n",
       "      <th>22</th>\n",
       "      <td>3b</td>\n",
       "      <td>Johannesburg CBD</td>\n",
       "    </tr>\n",
       "    <tr>\n",
       "      <th>23</th>\n",
       "      <td>4a</td>\n",
       "      <td>Pietersburg / Potgietersrus</td>\n",
       "    </tr>\n",
       "    <tr>\n",
       "      <th>24</th>\n",
       "      <td>4b</td>\n",
       "      <td>Nelspruit / Tzaneen</td>\n",
       "    </tr>\n",
       "    <tr>\n",
       "      <th>25</th>\n",
       "      <td>5a</td>\n",
       "      <td>Botswana and Exports</td>\n",
       "    </tr>\n",
       "    <tr>\n",
       "      <th>27</th>\n",
       "      <td>6a</td>\n",
       "      <td>East Cape</td>\n",
       "    </tr>\n",
       "    <tr>\n",
       "      <th>28</th>\n",
       "      <td>6b</td>\n",
       "      <td>West Cape</td>\n",
       "    </tr>\n",
       "    <tr>\n",
       "      <th>29</th>\n",
       "      <td>7a</td>\n",
       "      <td>Gauteng N - Sandton</td>\n",
       "    </tr>\n",
       "    <tr>\n",
       "      <th>30</th>\n",
       "      <td>7b</td>\n",
       "      <td>Gauteng N - Randburg/Rivonia</td>\n",
       "    </tr>\n",
       "    <tr>\n",
       "      <th>31</th>\n",
       "      <td>7c</td>\n",
       "      <td>Gauteng N - Eastgate/Norwood/Midrand</td>\n",
       "    </tr>\n",
       "    <tr>\n",
       "      <th>32</th>\n",
       "      <td>8a</td>\n",
       "      <td>Gauteng E - Alberton/Benoni/Kempton</td>\n",
       "    </tr>\n",
       "  </tbody>\n",
       "</table>\n",
       "</div>"
      ],
      "text/plain": [
       "   REGION_CODE                           REGION_DESC\n",
       "1          10a                                Durban\n",
       "2          10b                              Midlands\n",
       "3          11a                  Free State / Lesotho\n",
       "4          11b                  Ermelo / Piet Retief\n",
       "6           1a                      Pretoria Central\n",
       "7           1b             Pretoria North/South/West\n",
       "8           1c                         Pretoria East\n",
       "9           1d                              Pretoria\n",
       "10          1e                    Witbank/Middelburg\n",
       "17          2a                         Vaal Triangle\n",
       "18          2b                Krugersdorp / Sun City\n",
       "19          2c         Potch / Krugersdorp / Kuruman\n",
       "20          2d                            Rustenburg\n",
       "21          3a                        Soweto/Lenasia\n",
       "22          3b                      Johannesburg CBD\n",
       "23          4a           Pietersburg / Potgietersrus\n",
       "24          4b                   Nelspruit / Tzaneen\n",
       "25          5a                  Botswana and Exports\n",
       "27          6a                             East Cape\n",
       "28          6b                             West Cape\n",
       "29          7a                   Gauteng N - Sandton\n",
       "30          7b          Gauteng N - Randburg/Rivonia\n",
       "31          7c  Gauteng N - Eastgate/Norwood/Midrand\n",
       "32          8a   Gauteng E - Alberton/Benoni/Kempton"
      ]
     },
     "execution_count": 78,
     "metadata": {},
     "output_type": "execute_result"
    }
   ],
   "source": [
    "customer_regions_df_clean"
   ]
  },
  {
   "cell_type": "code",
   "execution_count": 79,
   "id": "ef2bece0",
   "metadata": {},
   "outputs": [],
   "source": [
    "# Save CSV\n",
    "csv_path = os.path.join(csv_folder, \"customer_regions_df_clean.csv\")\n",
    "customer_regions_df_clean.to_csv(csv_path, index=False)\n",
    "\n",
    "# Save JSON\n",
    "json_path = os.path.join(json_folder, \"customer_regions_df_clean.json\")\n",
    "customer_regions_df_clean.to_json(json_path, orient=\"records\", lines=True)"
   ]
  }
 ],
 "metadata": {
  "kernelspec": {
   "display_name": "3.13.5",
   "language": "python",
   "name": "python3"
  },
  "language_info": {
   "codemirror_mode": {
    "name": "ipython",
    "version": 3
   },
   "file_extension": ".py",
   "mimetype": "text/x-python",
   "name": "python",
   "nbconvert_exporter": "python",
   "pygments_lexer": "ipython3",
   "version": "3.13.5"
  }
 },
 "nbformat": 4,
 "nbformat_minor": 5
}
