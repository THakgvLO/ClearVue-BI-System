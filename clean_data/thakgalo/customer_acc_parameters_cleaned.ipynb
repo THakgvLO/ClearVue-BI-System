{
 "cells": [
  {
   "cell_type": "code",
   "execution_count": 1,
   "id": "ff422372",
   "metadata": {},
   "outputs": [],
   "source": [
    "import pandas as pd\n",
    "import re\n",
    "import numpy as np\n",
    "import matplotlib\n",
    "import matplotlib.pyplot as plt\n",
    "import seaborn as sns\n",
    "\n",
    "# Load the data\n",
    "customer_parameters_df = pd.read_excel('Data/Customer Account Parameters.xlsx')"
   ]
  },
  {
   "cell_type": "code",
   "execution_count": 2,
   "id": "734b7de7",
   "metadata": {},
   "outputs": [],
   "source": [
    "import os\n",
    "\n",
    "csv_folder = os.path.join(os.getcwd(), \"csv_outputs\")\n",
    "json_folder = os.path.join(os.getcwd(), \"json_outputs\")"
   ]
  },
  {
   "cell_type": "code",
   "execution_count": 3,
   "id": "71c49797",
   "metadata": {},
   "outputs": [
    {
     "name": "stdout",
     "output_type": "stream",
     "text": [
      "Columns: ['CUSTOMER_NUMBER', 'PARAMETER']\n"
     ]
    }
   ],
   "source": [
    "print(\"Columns:\", customer_parameters_df.columns.tolist())"
   ]
  },
  {
   "cell_type": "code",
   "execution_count": 4,
   "id": "b633fa74",
   "metadata": {},
   "outputs": [
    {
     "name": "stdout",
     "output_type": "stream",
     "text": [
      "Sample data:\n",
      "   CUSTOMER_NUMBER  PARAMETER\n",
      "0          AACJ01     Closed\n",
      "1          AACJC1     Closed\n",
      "2          AACJC2  Promotion\n",
      "3          AAVN01     Closed\n",
      "4          ABLA01     Closed\n"
     ]
    }
   ],
   "source": [
    "print(\"Sample data:\\n\", customer_parameters_df.head())"
   ]
  },
  {
   "cell_type": "code",
   "execution_count": 5,
   "id": "b693ff5e",
   "metadata": {},
   "outputs": [
    {
     "name": "stdout",
     "output_type": "stream",
     "text": [
      "Null values:\n",
      " CUSTOMER_NUMBER    0\n",
      "PARAMETER          0\n",
      "dtype: int64\n"
     ]
    }
   ],
   "source": [
    "print(\"Null values:\\n\", customer_parameters_df.isnull().sum())"
   ]
  },
  {
   "cell_type": "code",
   "execution_count": 6,
   "id": "09edd76d",
   "metadata": {},
   "outputs": [],
   "source": [
    "# Remove rows with any null values\n",
    "customer_parameters_df = customer_parameters_df.dropna()"
   ]
  },
  {
   "cell_type": "code",
   "execution_count": 7,
   "id": "d09ba960",
   "metadata": {},
   "outputs": [
    {
     "name": "stdout",
     "output_type": "stream",
     "text": [
      "Data shape: (1090, 2)\n"
     ]
    }
   ],
   "source": [
    "print(\"Data shape:\", customer_parameters_df.shape)"
   ]
  },
  {
   "cell_type": "code",
   "execution_count": 8,
   "id": "fa656243",
   "metadata": {},
   "outputs": [
    {
     "data": {
      "text/plain": [
       "['CUSTOMER_NUMBER', 'PARAMETER', 'PARAMETER_GROUP']"
      ]
     },
     "execution_count": 8,
     "metadata": {},
     "output_type": "execute_result"
    }
   ],
   "source": [
    "# Define semantic groups for each parameter value\n",
    "group_map = {\n",
    "    \"Closed\": \"Account Status\",              # Indicates inactive or terminated accounts\n",
    "    \"Trading Account\": \"Account Status\",     # Indicates active, revenue-generating accounts\n",
    "    \"Consignment\": \"Operations\",             # Refers to stock handling model — fits better under 'Operations'\n",
    "    \"Promotion\": \"Marketing\",                # Marketing behavior — fits under 'Marketing'\n",
    "    \"Promotional Stand\": \"Retail Format\"     # Physical retail setup (e.g., kiosk, pop-up) — fits under 'Retail Format'\n",
    "}\n",
    "\n",
    "# Apply semantic grouping to the parameter field\n",
    "customer_parameters_df['PARAMETER_GROUP'] = customer_parameters_df['PARAMETER'].map(group_map)\n",
    "\n",
    "customer_parameters_df.columns.tolist()\n"
   ]
  },
  {
   "cell_type": "code",
   "execution_count": 9,
   "id": "5214b0bb",
   "metadata": {},
   "outputs": [
    {
     "data": {
      "text/html": [
       "<div>\n",
       "<style scoped>\n",
       "    .dataframe tbody tr th:only-of-type {\n",
       "        vertical-align: middle;\n",
       "    }\n",
       "\n",
       "    .dataframe tbody tr th {\n",
       "        vertical-align: top;\n",
       "    }\n",
       "\n",
       "    .dataframe thead th {\n",
       "        text-align: right;\n",
       "    }\n",
       "</style>\n",
       "<table border=\"1\" class=\"dataframe\">\n",
       "  <thead>\n",
       "    <tr style=\"text-align: right;\">\n",
       "      <th></th>\n",
       "      <th>CUSTOMER_NUMBER</th>\n",
       "      <th>PARAMETER</th>\n",
       "      <th>PARAMETER_GROUP</th>\n",
       "    </tr>\n",
       "  </thead>\n",
       "  <tbody>\n",
       "    <tr>\n",
       "      <th>0</th>\n",
       "      <td>AACJ01</td>\n",
       "      <td>Closed</td>\n",
       "      <td>Account Status</td>\n",
       "    </tr>\n",
       "    <tr>\n",
       "      <th>1</th>\n",
       "      <td>AACJC1</td>\n",
       "      <td>Closed</td>\n",
       "      <td>Account Status</td>\n",
       "    </tr>\n",
       "    <tr>\n",
       "      <th>2</th>\n",
       "      <td>AACJC2</td>\n",
       "      <td>Promotion</td>\n",
       "      <td>Marketing</td>\n",
       "    </tr>\n",
       "    <tr>\n",
       "      <th>3</th>\n",
       "      <td>AAVN01</td>\n",
       "      <td>Closed</td>\n",
       "      <td>Account Status</td>\n",
       "    </tr>\n",
       "    <tr>\n",
       "      <th>4</th>\n",
       "      <td>ABLA01</td>\n",
       "      <td>Closed</td>\n",
       "      <td>Account Status</td>\n",
       "    </tr>\n",
       "    <tr>\n",
       "      <th>...</th>\n",
       "      <td>...</td>\n",
       "      <td>...</td>\n",
       "      <td>...</td>\n",
       "    </tr>\n",
       "    <tr>\n",
       "      <th>1085</th>\n",
       "      <td>ZDEI01</td>\n",
       "      <td>Trading Account</td>\n",
       "      <td>Account Status</td>\n",
       "    </tr>\n",
       "    <tr>\n",
       "      <th>1086</th>\n",
       "      <td>ZDEIOC</td>\n",
       "      <td>Consignment</td>\n",
       "      <td>Operations</td>\n",
       "    </tr>\n",
       "    <tr>\n",
       "      <th>1087</th>\n",
       "      <td>ZDOE02</td>\n",
       "      <td>Closed</td>\n",
       "      <td>Account Status</td>\n",
       "    </tr>\n",
       "    <tr>\n",
       "      <th>1088</th>\n",
       "      <td>ZHAY01</td>\n",
       "      <td>Closed</td>\n",
       "      <td>Account Status</td>\n",
       "    </tr>\n",
       "    <tr>\n",
       "      <th>1089</th>\n",
       "      <td>ZNAEOC</td>\n",
       "      <td>Consignment</td>\n",
       "      <td>Operations</td>\n",
       "    </tr>\n",
       "  </tbody>\n",
       "</table>\n",
       "<p>1090 rows × 3 columns</p>\n",
       "</div>"
      ],
      "text/plain": [
       "     CUSTOMER_NUMBER        PARAMETER PARAMETER_GROUP\n",
       "0             AACJ01           Closed  Account Status\n",
       "1             AACJC1           Closed  Account Status\n",
       "2             AACJC2        Promotion       Marketing\n",
       "3             AAVN01           Closed  Account Status\n",
       "4             ABLA01           Closed  Account Status\n",
       "...              ...              ...             ...\n",
       "1085          ZDEI01  Trading Account  Account Status\n",
       "1086          ZDEIOC      Consignment      Operations\n",
       "1087          ZDOE02           Closed  Account Status\n",
       "1088          ZHAY01           Closed  Account Status\n",
       "1089          ZNAEOC      Consignment      Operations\n",
       "\n",
       "[1090 rows x 3 columns]"
      ]
     },
     "execution_count": 9,
     "metadata": {},
     "output_type": "execute_result"
    }
   ],
   "source": [
    "customer_parameters_df"
   ]
  },
  {
   "cell_type": "code",
   "execution_count": 10,
   "id": "6c98d389",
   "metadata": {},
   "outputs": [
    {
     "data": {
      "text/plain": [
       "'# Extract only rows that describe account status (Closed or Trading Account)\\nacc_status_df = customer_parameters_df[\\n    customer_parameters_df[\\'PARAMETER_GROUP\\'] == \"Account Status\"\\n]\\n\\nacc_status_df'"
      ]
     },
     "execution_count": 10,
     "metadata": {},
     "output_type": "execute_result"
    }
   ],
   "source": [
    "'''# Extract only rows that describe account status (Closed or Trading Account)\n",
    "acc_status_df = customer_parameters_df[\n",
    "    customer_parameters_df['PARAMETER_GROUP'] == \"Account Status\"\n",
    "]\n",
    "\n",
    "acc_status_df'''"
   ]
  },
  {
   "cell_type": "code",
   "execution_count": 11,
   "id": "c6c10906",
   "metadata": {},
   "outputs": [
    {
     "data": {
      "text/plain": [
       "'# Select rows where PARAMETER_GROUP is NOT \"Account Status\"\\nnon_status_df = customer_parameters_df[customer_parameters_df[\\'PARAMETER_GROUP\\'] != \"Account Status\"]\\n\\nnon_status_df'"
      ]
     },
     "execution_count": 11,
     "metadata": {},
     "output_type": "execute_result"
    }
   ],
   "source": [
    "'''# Select rows where PARAMETER_GROUP is NOT \"Account Status\"\n",
    "non_status_df = customer_parameters_df[customer_parameters_df['PARAMETER_GROUP'] != \"Account Status\"]\n",
    "\n",
    "non_status_df'''"
   ]
  },
  {
   "cell_type": "code",
   "execution_count": 12,
   "id": "2faaeae7",
   "metadata": {},
   "outputs": [],
   "source": [
    "# Save CSV\n",
    "csv_path = os.path.join(csv_folder, \"customer_params_df_clean.csv\")\n",
    "customer_parameters_df.to_csv(csv_path, index=False)\n",
    "\n",
    "# Save JSON\n",
    "json_path = os.path.join(json_folder, \"customer_params_df_clean.json\")\n",
    "customer_parameters_df.to_json(json_path, orient=\"records\", lines=True)"
   ]
  },
  {
   "cell_type": "markdown",
   "id": "bc10273e",
   "metadata": {},
   "source": [
    "VISUALIZATION"
   ]
  },
  {
   "cell_type": "code",
   "execution_count": 13,
   "id": "a1b02e29",
   "metadata": {},
   "outputs": [
    {
     "data": {
      "text/plain": [
       "<Axes: title={'center': 'Customer Distribution by Parameter Group'}, xlabel='PARAMETER_GROUP'>"
      ]
     },
     "execution_count": 13,
     "metadata": {},
     "output_type": "execute_result"
    },
    {
     "data": {
      "image/png": "[encoded data removed]",
      "text/plain": [
       "<Figure size 640x480 with 1 Axes>"
      ]
     },
     "metadata": {},
     "output_type": "display_data"
    }
   ],
   "source": [
    "#Show how many customer-parameter pairs fall under each semantic group\n",
    "customer_parameters_df['PARAMETER_GROUP'].value_counts().plot(\n",
    "    kind='bar', color='slateblue', title='Customer Distribution by Parameter Group')"
   ]
  }
 ],
 "metadata": {
  "kernelspec": {
   "display_name": "3.13.5",
   "language": "python",
   "name": "python3"
  },
  "language_info": {
   "codemirror_mode": {
    "name": "ipython",
    "version": 3
   },
   "file_extension": ".py",
   "mimetype": "text/x-python",
   "name": "python",
   "nbconvert_exporter": "python",
   "pygments_lexer": "ipython3",
   "version": "3.13.5"
  }
 },
 "nbformat": 4,
 "nbformat_minor": 5
}
